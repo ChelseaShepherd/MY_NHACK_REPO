{
 "cells": [
  {
   "cell_type": "code",
   "execution_count": 1,
   "id": "1d9c1893-624d-43e9-b0cb-9112e6016858",
   "metadata": {},
   "outputs": [],
   "source": [
    "%load_ext autoreload\n",
    "%autoreload 2"
   ]
  },
  {
   "cell_type": "code",
   "execution_count": 2,
   "id": "060ef775-9d33-402c-b256-baa44050c883",
   "metadata": {},
   "outputs": [],
   "source": [
    "from NHACK.utils import load_pkg_yaml"
   ]
  },
  {
   "cell_type": "code",
   "execution_count": 3,
   "id": "63b3536f-93de-499d-9862-fa543a190056",
   "metadata": {},
   "outputs": [],
   "source": [
    "my_config=load_pkg_yaml()"
   ]
  },
  {
   "cell_type": "code",
   "execution_count": 4,
   "id": "2dfd5405-b162-417b-ab18-8b21fb4e037d",
   "metadata": {},
   "outputs": [
    {
     "data": {
      "text/plain": [
       "{'paths': {'atlaspath': 'Documents/atlases/'},\n",
       " 'preprocessing': {'zscore_data': True,\n",
       "  'filter_data': True,\n",
       "  'filter_params': {'window_length': 201, 'polyorder': 3}},\n",
       " 'analysis': {'subjects_to_analyse': ['01', '02', '03', '04'],\n",
       "  'ROIS': ['V1', 'V2', 'V3'],\n",
       "  'njobs': 60,\n",
       "  'backend_engine': 'torch'},\n",
       " 'plotting': {'figsize_x': 6, 'figsize_y': 4, 'dpi': 300},\n",
       " 'p_paths': {'data_dir': '/Users/chelseashepherd/MY_NHACK_REPO/data',\n",
       "  'docs_dir': '/Users/chelseashepherd/MY_NHACK_REPO/docs',\n",
       "  'results_dir': '/Users/chelseashepherd/MY_NHACK_REPO/results',\n",
       "  'scripts_dir': '/Users/chelseashepherd/MY_NHACK_REPO/scripts',\n",
       "  'tests_dir': '/Users/chelseashepherd/MY_NHACK_REPO/tests'}}"
      ]
     },
     "execution_count": 4,
     "metadata": {},
     "output_type": "execute_result"
    }
   ],
   "source": [
    "my_config"
   ]
  },
  {
   "cell_type": "code",
   "execution_count": 17,
   "id": "b58c7bf4-3e05-459d-8b5f-c2276a37563f",
   "metadata": {},
   "outputs": [],
   "source": [
    "from NHACK.analysis import plus_one"
   ]
  },
  {
   "cell_type": "code",
   "execution_count": 20,
   "id": "75446135-1a72-41c5-8085-eb45bfcbd939",
   "metadata": {},
   "outputs": [
    {
     "name": "stdout",
     "output_type": "stream",
     "text": [
      "2 1\n"
     ]
    }
   ],
   "source": [
    "newval=plus_one(1)"
   ]
  },
  {
   "cell_type": "code",
   "execution_count": 21,
   "id": "e0bfaffa-be5c-4808-b91d-1887c85952b4",
   "metadata": {},
   "outputs": [
    {
     "data": {
      "text/plain": [
       "2"
      ]
     },
     "execution_count": 21,
     "metadata": {},
     "output_type": "execute_result"
    }
   ],
   "source": [
    "newval"
   ]
  },
  {
   "cell_type": "code",
   "execution_count": null,
   "id": "8fa31c61-3caf-4707-94e0-fdcef33453b8",
   "metadata": {},
   "outputs": [],
   "source": []
  }
 ],
 "metadata": {
  "kernelspec": {
   "display_name": "Python 3 (ipykernel)",
   "language": "python",
   "name": "python3"
  },
  "language_info": {
   "codemirror_mode": {
    "name": "ipython",
    "version": 3
   },
   "file_extension": ".py",
   "mimetype": "text/x-python",
   "name": "python",
   "nbconvert_exporter": "python",
   "pygments_lexer": "ipython3",
   "version": "3.9.15"
  },
  "toc-autonumbering": true
 },
 "nbformat": 4,
 "nbformat_minor": 5
}
